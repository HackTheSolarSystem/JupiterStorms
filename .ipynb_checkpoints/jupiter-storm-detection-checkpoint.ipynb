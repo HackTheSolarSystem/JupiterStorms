{
 "cells": [
  {
   "cell_type": "code",
   "execution_count": 1,
   "metadata": {
    "collapsed": true
   },
   "outputs": [],
   "source": [
    "import numpy as np\n",
    "from matplotlib import pyplot as plt\n",
    "import cv2 as cv\n",
    "import os\n",
    "%matplotlib inline"
   ]
  },
  {
   "cell_type": "code",
   "execution_count": 2,
   "metadata": {
    "collapsed": true
   },
   "outputs": [],
   "source": [
    "# Sets up an array of images\n",
    "\n",
    "# p_base = '../hack-the-deep/Intermediates-Help/' + '1st problem/'\n",
    "# p_A = p_base + 'pA'\n",
    "\n",
    "# f_A = []\n",
    "# for root, dirs, files in os.walk(p_A):\n",
    "#     for file in files:\n",
    "#         if file.endswith(\"tif\"):\n",
    "#              f_A.append(os.path.join(root, file))\n",
    "                \n",
    "p_base = 'TestImages/'\n",
    "p_A = p_base\n",
    "f_A = []\n",
    "for root, dirs, files in os.walk(p_base):\n",
    "    for file in files:\n",
    "        if file.endswith(\"jpg\"):\n",
    "            f_A.append(os.path.join(root, file))"
   ]
  },
  {
   "cell_type": "code",
   "execution_count": 7,
   "metadata": {},
   "outputs": [
    {
     "ename": "AttributeError",
     "evalue": "'numpy.ndarray' object has no attribute 'length'",
     "output_type": "error",
     "traceback": [
      "\u001b[0;31m---------------------------------------------------------------------------\u001b[0m",
      "\u001b[0;31mAttributeError\u001b[0m                            Traceback (most recent call last)",
      "\u001b[0;32m<ipython-input-7-a37b25d686a4>\u001b[0m in \u001b[0;36m<module>\u001b[0;34m()\u001b[0m\n\u001b[1;32m     15\u001b[0m \u001b[0mcircles\u001b[0m \u001b[0;34m=\u001b[0m \u001b[0mcv\u001b[0m\u001b[0;34m.\u001b[0m\u001b[0mHoughCircles\u001b[0m\u001b[0;34m(\u001b[0m\u001b[0mgaussianblurred\u001b[0m\u001b[0;34m,\u001b[0m\u001b[0mcv\u001b[0m\u001b[0;34m.\u001b[0m\u001b[0mHOUGH_GRADIENT\u001b[0m\u001b[0;34m,\u001b[0m\u001b[0;36m1\u001b[0m\u001b[0;34m,\u001b[0m\u001b[0;36m20\u001b[0m\u001b[0;34m,\u001b[0m\u001b[0mparam1\u001b[0m\u001b[0;34m=\u001b[0m\u001b[0;36m50\u001b[0m\u001b[0;34m,\u001b[0m\u001b[0mparam2\u001b[0m\u001b[0;34m=\u001b[0m\u001b[0;36m30\u001b[0m\u001b[0;34m,\u001b[0m\u001b[0mminRadius\u001b[0m\u001b[0;34m=\u001b[0m\u001b[0;36m0\u001b[0m\u001b[0;34m,\u001b[0m\u001b[0mmaxRadius\u001b[0m\u001b[0;34m=\u001b[0m\u001b[0;36m0\u001b[0m\u001b[0;34m)\u001b[0m\u001b[0;34m\u001b[0m\u001b[0m\n\u001b[1;32m     16\u001b[0m \u001b[0mcircles\u001b[0m \u001b[0;34m=\u001b[0m \u001b[0mnp\u001b[0m\u001b[0;34m.\u001b[0m\u001b[0muint16\u001b[0m\u001b[0;34m(\u001b[0m\u001b[0mnp\u001b[0m\u001b[0;34m.\u001b[0m\u001b[0maround\u001b[0m\u001b[0;34m(\u001b[0m\u001b[0mcircles\u001b[0m\u001b[0;34m)\u001b[0m\u001b[0;34m)\u001b[0m\u001b[0;34m\u001b[0m\u001b[0m\n\u001b[0;32m---> 17\u001b[0;31m \u001b[0mprint\u001b[0m \u001b[0;34m(\u001b[0m\u001b[0;34m\"Circles Size: \"\u001b[0m \u001b[0;34m+\u001b[0m \u001b[0mcircles\u001b[0m\u001b[0;34m.\u001b[0m\u001b[0mlength\u001b[0m\u001b[0;34m)\u001b[0m\u001b[0;34m\u001b[0m\u001b[0m\n\u001b[0m\u001b[1;32m     18\u001b[0m \u001b[0;31m# for i in circles[0,:]:\u001b[0m\u001b[0;34m\u001b[0m\u001b[0;34m\u001b[0m\u001b[0m\n\u001b[1;32m     19\u001b[0m \u001b[0;31m#   cv.circle(grays,(i[0],i[1]),i[2],(0,255,0),2)\u001b[0m\u001b[0;34m\u001b[0m\u001b[0;34m\u001b[0m\u001b[0m\n",
      "\u001b[0;31mAttributeError\u001b[0m: 'numpy.ndarray' object has no attribute 'length'"
     ]
    }
   ],
   "source": [
    "# Read Source Image, the '0' can be changed to switch images\n",
    "img = cv.imread(f_A[0])\n",
    "\n",
    "# Convert Image to Grayscale, the proper format for calling other image enhancement functions\n",
    "grays = cv.cvtColor(img, cv.COLOR_BGR2GRAY)\n",
    "cv.imwrite(\"grays.jpg\", grays)\n",
    "\n",
    "# Blur Image to smooth out noise\n",
    "blurred = cv.medianBlur(grays, 5)\n",
    "cv.imwrite(\"blurred.jpg\", blurred)\n",
    "\n",
    "gaussianblurred = cv.GaussianBlur( grays, (9, 9), 0);\n",
    "cv.imwrite(\"gaussianblurred.jpg\", gaussianblurred);\n",
    "\n",
    "circles = cv.HoughCircles(gaussianblurred,cv.HOUGH_GRADIENT,1,20,param1=50,param2=30,minRadius=0,maxRadius=0)\n",
    "circles = np.uint16(np.around(circles))\n",
    "print (\"Circles Size: \" + circles.size)\n",
    "# for i in circles[0,:]:\n",
    "#   cv.circle(grays,(i[0],i[1]),i[2],(0,255,0),2)\n",
    "#   cv.circle(grays,(i[0],i[1]),2,(0,0,255),3)\n",
    "\n",
    "# # Create Binary Threshold, any pixel above 90 is defaulted to 255, any pixel below 90 is defaulted to 0\n",
    "# binary90 = cv.threshold(grays,90,255,cv.THRESH_BINARY)\n",
    "# cv.imwrite(\"binary90.jpg\", binary90[1])\n",
    "\n",
    "# Create Adaptive Mean, take the average pixel darkness in an 11x11 block around the pixel, and default to\n",
    "#  255 if above that average, and 0 if below\n",
    "adaptivemean = cv.adaptiveThreshold(blurred,255,cv.ADAPTIVE_THRESH_MEAN_C,cv.THRESH_BINARY,11,2)\n",
    "cv.imwrite(\"adaptivemean.jpg\", adaptivemean)\n",
    "# Same as Adaptive Mean, except with Gaussian Blur applied beforehand\n",
    "adaptivegaussian = cv.adaptiveThreshold(blurred,255,cv.ADAPTIVE_THRESH_GAUSSIAN_C,cv.THRESH_BINARY,11,2)\n",
    "cv.imwrite(\"adaptivegaussian.jpg\", adaptivegaussian)\n",
    "\n",
    "# Applying Canny Edge Detection on best case of the three thresholding above, in this case Adaptive Mean\n",
    "edges = cv.Canny(adaptivemean,img.shape[0],img.shape[1],4)\n",
    "cv.imwrite(\"edges.jpg\", edges)\n",
    "\n",
    "# # Applying Sobel Gradient Detection Horizontally and Vertically\n",
    "# sobelx = cv.Sobel(adaptivemean,cv.CV_64F,1,0,ksize=5)\n",
    "# cv.imwrite(\"sobelx.jpg\", sobelx)\n",
    "# sobely = cv.Sobel(adaptivemean,cv.CV_64F,0,1,ksize=5)\n",
    "# cv.imwrite(\"sobely.jpg\", sobely)\n",
    "# sobelnorm = abs(sobelx) + abs(sobely)\n",
    "# cv.imwrite(\"sobelnorm.jpg\", sobelnorm)\n",
    "\n",
    "# Sets the printed Image size\n",
    "plt.figure(figsize=(100,100))\n",
    "\n",
    "# Print Images\n",
    "plt.subplot(911),plt.imshow(img,cmap = 'gray')\n",
    "plt.title('Original Image'), plt.xticks([]), plt.yticks([])\n",
    "\n",
    "plt.subplot(912),plt.imshow(gaussianblurred,cmap = 'gray')\n",
    "plt.title('Gaussian Image'), plt.xticks([]), plt.yticks([])\n",
    "\n",
    "# plt.subplot(912), plt.imshow(grays,cmap = 'gray')\n",
    "# plt.title('Gray Image'), plt.xticks([]), plt.yticks([])\n",
    "\n",
    "# plt.subplot(913),plt.imshow(binary90[1],cmap = 'gray')\n",
    "# plt.title('Global Thresholding (v = 127)'), plt.xticks([]), plt.yticks([])\n",
    "\n",
    "# plt.subplot(914),plt.imshow(adaptivemean,cmap = 'gray')\n",
    "# plt.title('Adaptive Mean Thresholding'), plt.xticks([]), plt.yticks([])\n",
    "\n",
    "# plt.subplot(915),plt.imshow(adaptivegaussian,cmap = 'gray')\n",
    "# plt.title('Adaptive Gaussian Thresholding'), plt.xticks([]), plt.yticks([])\n",
    "\n",
    "plt.subplot(913),plt.imshow(edges,cmap = 'gray')\n",
    "plt.title('Adaptive Gaussian Thresholding Edges'), plt.xticks([]), plt.yticks([])\n",
    "\n",
    "# plt.subplot(917),plt.imshow(sobelx,cmap = 'gray')\n",
    "# plt.title('SobelX'), plt.xticks([]), plt.yticks([])\n",
    "\n",
    "# plt.subplot(918), plt.imshow(sobely,cmap = 'gray')\n",
    "# plt.title('SobelY'), plt.xticks([]), plt.yticks([])\n",
    "\n",
    "# plt.subplot(919),plt.imshow(sobelnorm,cmap = 'gray')\n",
    "# plt.title('Sobel Norm'), plt.xticks([]), plt.yticks([])"
   ]
  },
  {
   "cell_type": "code",
   "execution_count": null,
   "metadata": {
    "collapsed": true
   },
   "outputs": [],
   "source": []
  }
 ],
 "metadata": {
  "kernelspec": {
   "display_name": "Python 3",
   "language": "python",
   "name": "python3"
  },
  "language_info": {
   "codemirror_mode": {
    "name": "ipython",
    "version": 3
   },
   "file_extension": ".py",
   "mimetype": "text/x-python",
   "name": "python",
   "nbconvert_exporter": "python",
   "pygments_lexer": "ipython3",
   "version": "3.6.3"
  }
 },
 "nbformat": 4,
 "nbformat_minor": 2
}
